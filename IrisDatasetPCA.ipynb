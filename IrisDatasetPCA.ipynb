{
 "cells": [
  {
   "cell_type": "code",
   "execution_count": 1,
   "id": "7c2139ff-ee40-4a04-b257-16a4f87f01b6",
   "metadata": {},
   "outputs": [
    {
     "name": "stderr",
     "output_type": "stream",
     "text": [
      "Installing package into 'C:/Users/dantf/AppData/Local/R/win-library/4.3'\n",
      "(as 'lib' is unspecified)\n",
      "\n"
     ]
    },
    {
     "name": "stdout",
     "output_type": "stream",
     "text": [
      "package 'psych' successfully unpacked and MD5 sums checked\n",
      "\n",
      "The downloaded binary packages are in\n",
      "\tC:\\Users\\dantf\\AppData\\Local\\Temp\\RtmpQPpqxi\\downloaded_packages\n"
     ]
    }
   ],
   "source": [
    "# libs install\n",
    "\n",
    "install.packages(\"psych\")"
   ]
  },
  {
   "cell_type": "code",
   "execution_count": 2,
   "id": "9f7dd3e3-8b9d-41e9-8754-23ab3114eaa4",
   "metadata": {},
   "outputs": [
    {
     "name": "stderr",
     "output_type": "stream",
     "text": [
      "Loading required package: ggplot2\n",
      "\n",
      "\n",
      "Attaching package: 'ggplot2'\n",
      "\n",
      "\n",
      "The following objects are masked from 'package:psych':\n",
      "\n",
      "    %+%, alpha\n",
      "\n",
      "\n",
      "Loading required package: plyr\n",
      "\n",
      "Loading required package: scales\n",
      "\n",
      "\n",
      "Attaching package: 'scales'\n",
      "\n",
      "\n",
      "The following objects are masked from 'package:psych':\n",
      "\n",
      "    alpha, rescale\n",
      "\n",
      "\n",
      "Loading required package: grid\n",
      "\n",
      "Loading required package: usethis\n",
      "\n",
      "Skipping install of 'ggbiplot' from a github remote, the SHA1 (7325e880) has not changed since last install.\n",
      "  Use `force = TRUE` to force installation\n",
      "\n"
     ]
    }
   ],
   "source": [
    "# libs import\n",
    "\n",
    "library(psych)\n",
    "library(ggbiplot)\n",
    "library(nnet)\n",
    "library(devtools)\n",
    "install_github(\"vqv/ggbiplot\")"
   ]
  },
  {
   "cell_type": "code",
   "execution_count": 3,
   "id": "029a7473-9d82-47f9-bd08-f5c277749bbe",
   "metadata": {},
   "outputs": [],
   "source": [
    "# load data\n",
    "\n",
    "data <- read.csv(\"C:/Users/dantf/OneDrive/Documentos/IRIS.csv\", header = TRUE)"
   ]
  },
  {
   "cell_type": "code",
   "execution_count": 4,
   "id": "a9aeb757-aa31-47ad-bd98-d04604b1907a",
   "metadata": {},
   "outputs": [
    {
     "data": {
      "text/html": [
       "<table class=\"dataframe\">\n",
       "<caption>A data.frame: 150 × 5</caption>\n",
       "<thead>\n",
       "\t<tr><th scope=col>sepal_length</th><th scope=col>sepal_width</th><th scope=col>petal_length</th><th scope=col>petal_width</th><th scope=col>species</th></tr>\n",
       "\t<tr><th scope=col>&lt;dbl&gt;</th><th scope=col>&lt;dbl&gt;</th><th scope=col>&lt;dbl&gt;</th><th scope=col>&lt;dbl&gt;</th><th scope=col>&lt;chr&gt;</th></tr>\n",
       "</thead>\n",
       "<tbody>\n",
       "\t<tr><td>5.1</td><td>3.5</td><td>1.4</td><td>0.2</td><td>Iris-setosa</td></tr>\n",
       "\t<tr><td>4.9</td><td>3.0</td><td>1.4</td><td>0.2</td><td>Iris-setosa</td></tr>\n",
       "\t<tr><td>4.7</td><td>3.2</td><td>1.3</td><td>0.2</td><td>Iris-setosa</td></tr>\n",
       "\t<tr><td>4.6</td><td>3.1</td><td>1.5</td><td>0.2</td><td>Iris-setosa</td></tr>\n",
       "\t<tr><td>5.0</td><td>3.6</td><td>1.4</td><td>0.2</td><td>Iris-setosa</td></tr>\n",
       "\t<tr><td>5.4</td><td>3.9</td><td>1.7</td><td>0.4</td><td>Iris-setosa</td></tr>\n",
       "\t<tr><td>4.6</td><td>3.4</td><td>1.4</td><td>0.3</td><td>Iris-setosa</td></tr>\n",
       "\t<tr><td>5.0</td><td>3.4</td><td>1.5</td><td>0.2</td><td>Iris-setosa</td></tr>\n",
       "\t<tr><td>4.4</td><td>2.9</td><td>1.4</td><td>0.2</td><td>Iris-setosa</td></tr>\n",
       "\t<tr><td>4.9</td><td>3.1</td><td>1.5</td><td>0.1</td><td>Iris-setosa</td></tr>\n",
       "\t<tr><td>5.4</td><td>3.7</td><td>1.5</td><td>0.2</td><td>Iris-setosa</td></tr>\n",
       "\t<tr><td>4.8</td><td>3.4</td><td>1.6</td><td>0.2</td><td>Iris-setosa</td></tr>\n",
       "\t<tr><td>4.8</td><td>3.0</td><td>1.4</td><td>0.1</td><td>Iris-setosa</td></tr>\n",
       "\t<tr><td>4.3</td><td>3.0</td><td>1.1</td><td>0.1</td><td>Iris-setosa</td></tr>\n",
       "\t<tr><td>5.8</td><td>4.0</td><td>1.2</td><td>0.2</td><td>Iris-setosa</td></tr>\n",
       "\t<tr><td>5.7</td><td>4.4</td><td>1.5</td><td>0.4</td><td>Iris-setosa</td></tr>\n",
       "\t<tr><td>5.4</td><td>3.9</td><td>1.3</td><td>0.4</td><td>Iris-setosa</td></tr>\n",
       "\t<tr><td>5.1</td><td>3.5</td><td>1.4</td><td>0.3</td><td>Iris-setosa</td></tr>\n",
       "\t<tr><td>5.7</td><td>3.8</td><td>1.7</td><td>0.3</td><td>Iris-setosa</td></tr>\n",
       "\t<tr><td>5.1</td><td>3.8</td><td>1.5</td><td>0.3</td><td>Iris-setosa</td></tr>\n",
       "\t<tr><td>5.4</td><td>3.4</td><td>1.7</td><td>0.2</td><td>Iris-setosa</td></tr>\n",
       "\t<tr><td>5.1</td><td>3.7</td><td>1.5</td><td>0.4</td><td>Iris-setosa</td></tr>\n",
       "\t<tr><td>4.6</td><td>3.6</td><td>1.0</td><td>0.2</td><td>Iris-setosa</td></tr>\n",
       "\t<tr><td>5.1</td><td>3.3</td><td>1.7</td><td>0.5</td><td>Iris-setosa</td></tr>\n",
       "\t<tr><td>4.8</td><td>3.4</td><td>1.9</td><td>0.2</td><td>Iris-setosa</td></tr>\n",
       "\t<tr><td>5.0</td><td>3.0</td><td>1.6</td><td>0.2</td><td>Iris-setosa</td></tr>\n",
       "\t<tr><td>5.0</td><td>3.4</td><td>1.6</td><td>0.4</td><td>Iris-setosa</td></tr>\n",
       "\t<tr><td>5.2</td><td>3.5</td><td>1.5</td><td>0.2</td><td>Iris-setosa</td></tr>\n",
       "\t<tr><td>5.2</td><td>3.4</td><td>1.4</td><td>0.2</td><td>Iris-setosa</td></tr>\n",
       "\t<tr><td>4.7</td><td>3.2</td><td>1.6</td><td>0.2</td><td>Iris-setosa</td></tr>\n",
       "\t<tr><td>⋮</td><td>⋮</td><td>⋮</td><td>⋮</td><td>⋮</td></tr>\n",
       "\t<tr><td>6.9</td><td>3.2</td><td>5.7</td><td>2.3</td><td>Iris-virginica</td></tr>\n",
       "\t<tr><td>5.6</td><td>2.8</td><td>4.9</td><td>2.0</td><td>Iris-virginica</td></tr>\n",
       "\t<tr><td>7.7</td><td>2.8</td><td>6.7</td><td>2.0</td><td>Iris-virginica</td></tr>\n",
       "\t<tr><td>6.3</td><td>2.7</td><td>4.9</td><td>1.8</td><td>Iris-virginica</td></tr>\n",
       "\t<tr><td>6.7</td><td>3.3</td><td>5.7</td><td>2.1</td><td>Iris-virginica</td></tr>\n",
       "\t<tr><td>7.2</td><td>3.2</td><td>6.0</td><td>1.8</td><td>Iris-virginica</td></tr>\n",
       "\t<tr><td>6.2</td><td>2.8</td><td>4.8</td><td>1.8</td><td>Iris-virginica</td></tr>\n",
       "\t<tr><td>6.1</td><td>3.0</td><td>4.9</td><td>1.8</td><td>Iris-virginica</td></tr>\n",
       "\t<tr><td>6.4</td><td>2.8</td><td>5.6</td><td>2.1</td><td>Iris-virginica</td></tr>\n",
       "\t<tr><td>7.2</td><td>3.0</td><td>5.8</td><td>1.6</td><td>Iris-virginica</td></tr>\n",
       "\t<tr><td>7.4</td><td>2.8</td><td>6.1</td><td>1.9</td><td>Iris-virginica</td></tr>\n",
       "\t<tr><td>7.9</td><td>3.8</td><td>6.4</td><td>2.0</td><td>Iris-virginica</td></tr>\n",
       "\t<tr><td>6.4</td><td>2.8</td><td>5.6</td><td>2.2</td><td>Iris-virginica</td></tr>\n",
       "\t<tr><td>6.3</td><td>2.8</td><td>5.1</td><td>1.5</td><td>Iris-virginica</td></tr>\n",
       "\t<tr><td>6.1</td><td>2.6</td><td>5.6</td><td>1.4</td><td>Iris-virginica</td></tr>\n",
       "\t<tr><td>7.7</td><td>3.0</td><td>6.1</td><td>2.3</td><td>Iris-virginica</td></tr>\n",
       "\t<tr><td>6.3</td><td>3.4</td><td>5.6</td><td>2.4</td><td>Iris-virginica</td></tr>\n",
       "\t<tr><td>6.4</td><td>3.1</td><td>5.5</td><td>1.8</td><td>Iris-virginica</td></tr>\n",
       "\t<tr><td>6.0</td><td>3.0</td><td>4.8</td><td>1.8</td><td>Iris-virginica</td></tr>\n",
       "\t<tr><td>6.9</td><td>3.1</td><td>5.4</td><td>2.1</td><td>Iris-virginica</td></tr>\n",
       "\t<tr><td>6.7</td><td>3.1</td><td>5.6</td><td>2.4</td><td>Iris-virginica</td></tr>\n",
       "\t<tr><td>6.9</td><td>3.1</td><td>5.1</td><td>2.3</td><td>Iris-virginica</td></tr>\n",
       "\t<tr><td>5.8</td><td>2.7</td><td>5.1</td><td>1.9</td><td>Iris-virginica</td></tr>\n",
       "\t<tr><td>6.8</td><td>3.2</td><td>5.9</td><td>2.3</td><td>Iris-virginica</td></tr>\n",
       "\t<tr><td>6.7</td><td>3.3</td><td>5.7</td><td>2.5</td><td>Iris-virginica</td></tr>\n",
       "\t<tr><td>6.7</td><td>3.0</td><td>5.2</td><td>2.3</td><td>Iris-virginica</td></tr>\n",
       "\t<tr><td>6.3</td><td>2.5</td><td>5.0</td><td>1.9</td><td>Iris-virginica</td></tr>\n",
       "\t<tr><td>6.5</td><td>3.0</td><td>5.2</td><td>2.0</td><td>Iris-virginica</td></tr>\n",
       "\t<tr><td>6.2</td><td>3.4</td><td>5.4</td><td>2.3</td><td>Iris-virginica</td></tr>\n",
       "\t<tr><td>5.9</td><td>3.0</td><td>5.1</td><td>1.8</td><td>Iris-virginica</td></tr>\n",
       "</tbody>\n",
       "</table>\n"
      ],
      "text/latex": [
       "A data.frame: 150 × 5\n",
       "\\begin{tabular}{lllll}\n",
       " sepal\\_length & sepal\\_width & petal\\_length & petal\\_width & species\\\\\n",
       " <dbl> & <dbl> & <dbl> & <dbl> & <chr>\\\\\n",
       "\\hline\n",
       "\t 5.1 & 3.5 & 1.4 & 0.2 & Iris-setosa\\\\\n",
       "\t 4.9 & 3.0 & 1.4 & 0.2 & Iris-setosa\\\\\n",
       "\t 4.7 & 3.2 & 1.3 & 0.2 & Iris-setosa\\\\\n",
       "\t 4.6 & 3.1 & 1.5 & 0.2 & Iris-setosa\\\\\n",
       "\t 5.0 & 3.6 & 1.4 & 0.2 & Iris-setosa\\\\\n",
       "\t 5.4 & 3.9 & 1.7 & 0.4 & Iris-setosa\\\\\n",
       "\t 4.6 & 3.4 & 1.4 & 0.3 & Iris-setosa\\\\\n",
       "\t 5.0 & 3.4 & 1.5 & 0.2 & Iris-setosa\\\\\n",
       "\t 4.4 & 2.9 & 1.4 & 0.2 & Iris-setosa\\\\\n",
       "\t 4.9 & 3.1 & 1.5 & 0.1 & Iris-setosa\\\\\n",
       "\t 5.4 & 3.7 & 1.5 & 0.2 & Iris-setosa\\\\\n",
       "\t 4.8 & 3.4 & 1.6 & 0.2 & Iris-setosa\\\\\n",
       "\t 4.8 & 3.0 & 1.4 & 0.1 & Iris-setosa\\\\\n",
       "\t 4.3 & 3.0 & 1.1 & 0.1 & Iris-setosa\\\\\n",
       "\t 5.8 & 4.0 & 1.2 & 0.2 & Iris-setosa\\\\\n",
       "\t 5.7 & 4.4 & 1.5 & 0.4 & Iris-setosa\\\\\n",
       "\t 5.4 & 3.9 & 1.3 & 0.4 & Iris-setosa\\\\\n",
       "\t 5.1 & 3.5 & 1.4 & 0.3 & Iris-setosa\\\\\n",
       "\t 5.7 & 3.8 & 1.7 & 0.3 & Iris-setosa\\\\\n",
       "\t 5.1 & 3.8 & 1.5 & 0.3 & Iris-setosa\\\\\n",
       "\t 5.4 & 3.4 & 1.7 & 0.2 & Iris-setosa\\\\\n",
       "\t 5.1 & 3.7 & 1.5 & 0.4 & Iris-setosa\\\\\n",
       "\t 4.6 & 3.6 & 1.0 & 0.2 & Iris-setosa\\\\\n",
       "\t 5.1 & 3.3 & 1.7 & 0.5 & Iris-setosa\\\\\n",
       "\t 4.8 & 3.4 & 1.9 & 0.2 & Iris-setosa\\\\\n",
       "\t 5.0 & 3.0 & 1.6 & 0.2 & Iris-setosa\\\\\n",
       "\t 5.0 & 3.4 & 1.6 & 0.4 & Iris-setosa\\\\\n",
       "\t 5.2 & 3.5 & 1.5 & 0.2 & Iris-setosa\\\\\n",
       "\t 5.2 & 3.4 & 1.4 & 0.2 & Iris-setosa\\\\\n",
       "\t 4.7 & 3.2 & 1.6 & 0.2 & Iris-setosa\\\\\n",
       "\t ⋮ & ⋮ & ⋮ & ⋮ & ⋮\\\\\n",
       "\t 6.9 & 3.2 & 5.7 & 2.3 & Iris-virginica\\\\\n",
       "\t 5.6 & 2.8 & 4.9 & 2.0 & Iris-virginica\\\\\n",
       "\t 7.7 & 2.8 & 6.7 & 2.0 & Iris-virginica\\\\\n",
       "\t 6.3 & 2.7 & 4.9 & 1.8 & Iris-virginica\\\\\n",
       "\t 6.7 & 3.3 & 5.7 & 2.1 & Iris-virginica\\\\\n",
       "\t 7.2 & 3.2 & 6.0 & 1.8 & Iris-virginica\\\\\n",
       "\t 6.2 & 2.8 & 4.8 & 1.8 & Iris-virginica\\\\\n",
       "\t 6.1 & 3.0 & 4.9 & 1.8 & Iris-virginica\\\\\n",
       "\t 6.4 & 2.8 & 5.6 & 2.1 & Iris-virginica\\\\\n",
       "\t 7.2 & 3.0 & 5.8 & 1.6 & Iris-virginica\\\\\n",
       "\t 7.4 & 2.8 & 6.1 & 1.9 & Iris-virginica\\\\\n",
       "\t 7.9 & 3.8 & 6.4 & 2.0 & Iris-virginica\\\\\n",
       "\t 6.4 & 2.8 & 5.6 & 2.2 & Iris-virginica\\\\\n",
       "\t 6.3 & 2.8 & 5.1 & 1.5 & Iris-virginica\\\\\n",
       "\t 6.1 & 2.6 & 5.6 & 1.4 & Iris-virginica\\\\\n",
       "\t 7.7 & 3.0 & 6.1 & 2.3 & Iris-virginica\\\\\n",
       "\t 6.3 & 3.4 & 5.6 & 2.4 & Iris-virginica\\\\\n",
       "\t 6.4 & 3.1 & 5.5 & 1.8 & Iris-virginica\\\\\n",
       "\t 6.0 & 3.0 & 4.8 & 1.8 & Iris-virginica\\\\\n",
       "\t 6.9 & 3.1 & 5.4 & 2.1 & Iris-virginica\\\\\n",
       "\t 6.7 & 3.1 & 5.6 & 2.4 & Iris-virginica\\\\\n",
       "\t 6.9 & 3.1 & 5.1 & 2.3 & Iris-virginica\\\\\n",
       "\t 5.8 & 2.7 & 5.1 & 1.9 & Iris-virginica\\\\\n",
       "\t 6.8 & 3.2 & 5.9 & 2.3 & Iris-virginica\\\\\n",
       "\t 6.7 & 3.3 & 5.7 & 2.5 & Iris-virginica\\\\\n",
       "\t 6.7 & 3.0 & 5.2 & 2.3 & Iris-virginica\\\\\n",
       "\t 6.3 & 2.5 & 5.0 & 1.9 & Iris-virginica\\\\\n",
       "\t 6.5 & 3.0 & 5.2 & 2.0 & Iris-virginica\\\\\n",
       "\t 6.2 & 3.4 & 5.4 & 2.3 & Iris-virginica\\\\\n",
       "\t 5.9 & 3.0 & 5.1 & 1.8 & Iris-virginica\\\\\n",
       "\\end{tabular}\n"
      ],
      "text/markdown": [
       "\n",
       "A data.frame: 150 × 5\n",
       "\n",
       "| sepal_length &lt;dbl&gt; | sepal_width &lt;dbl&gt; | petal_length &lt;dbl&gt; | petal_width &lt;dbl&gt; | species &lt;chr&gt; |\n",
       "|---|---|---|---|---|\n",
       "| 5.1 | 3.5 | 1.4 | 0.2 | Iris-setosa |\n",
       "| 4.9 | 3.0 | 1.4 | 0.2 | Iris-setosa |\n",
       "| 4.7 | 3.2 | 1.3 | 0.2 | Iris-setosa |\n",
       "| 4.6 | 3.1 | 1.5 | 0.2 | Iris-setosa |\n",
       "| 5.0 | 3.6 | 1.4 | 0.2 | Iris-setosa |\n",
       "| 5.4 | 3.9 | 1.7 | 0.4 | Iris-setosa |\n",
       "| 4.6 | 3.4 | 1.4 | 0.3 | Iris-setosa |\n",
       "| 5.0 | 3.4 | 1.5 | 0.2 | Iris-setosa |\n",
       "| 4.4 | 2.9 | 1.4 | 0.2 | Iris-setosa |\n",
       "| 4.9 | 3.1 | 1.5 | 0.1 | Iris-setosa |\n",
       "| 5.4 | 3.7 | 1.5 | 0.2 | Iris-setosa |\n",
       "| 4.8 | 3.4 | 1.6 | 0.2 | Iris-setosa |\n",
       "| 4.8 | 3.0 | 1.4 | 0.1 | Iris-setosa |\n",
       "| 4.3 | 3.0 | 1.1 | 0.1 | Iris-setosa |\n",
       "| 5.8 | 4.0 | 1.2 | 0.2 | Iris-setosa |\n",
       "| 5.7 | 4.4 | 1.5 | 0.4 | Iris-setosa |\n",
       "| 5.4 | 3.9 | 1.3 | 0.4 | Iris-setosa |\n",
       "| 5.1 | 3.5 | 1.4 | 0.3 | Iris-setosa |\n",
       "| 5.7 | 3.8 | 1.7 | 0.3 | Iris-setosa |\n",
       "| 5.1 | 3.8 | 1.5 | 0.3 | Iris-setosa |\n",
       "| 5.4 | 3.4 | 1.7 | 0.2 | Iris-setosa |\n",
       "| 5.1 | 3.7 | 1.5 | 0.4 | Iris-setosa |\n",
       "| 4.6 | 3.6 | 1.0 | 0.2 | Iris-setosa |\n",
       "| 5.1 | 3.3 | 1.7 | 0.5 | Iris-setosa |\n",
       "| 4.8 | 3.4 | 1.9 | 0.2 | Iris-setosa |\n",
       "| 5.0 | 3.0 | 1.6 | 0.2 | Iris-setosa |\n",
       "| 5.0 | 3.4 | 1.6 | 0.4 | Iris-setosa |\n",
       "| 5.2 | 3.5 | 1.5 | 0.2 | Iris-setosa |\n",
       "| 5.2 | 3.4 | 1.4 | 0.2 | Iris-setosa |\n",
       "| 4.7 | 3.2 | 1.6 | 0.2 | Iris-setosa |\n",
       "| ⋮ | ⋮ | ⋮ | ⋮ | ⋮ |\n",
       "| 6.9 | 3.2 | 5.7 | 2.3 | Iris-virginica |\n",
       "| 5.6 | 2.8 | 4.9 | 2.0 | Iris-virginica |\n",
       "| 7.7 | 2.8 | 6.7 | 2.0 | Iris-virginica |\n",
       "| 6.3 | 2.7 | 4.9 | 1.8 | Iris-virginica |\n",
       "| 6.7 | 3.3 | 5.7 | 2.1 | Iris-virginica |\n",
       "| 7.2 | 3.2 | 6.0 | 1.8 | Iris-virginica |\n",
       "| 6.2 | 2.8 | 4.8 | 1.8 | Iris-virginica |\n",
       "| 6.1 | 3.0 | 4.9 | 1.8 | Iris-virginica |\n",
       "| 6.4 | 2.8 | 5.6 | 2.1 | Iris-virginica |\n",
       "| 7.2 | 3.0 | 5.8 | 1.6 | Iris-virginica |\n",
       "| 7.4 | 2.8 | 6.1 | 1.9 | Iris-virginica |\n",
       "| 7.9 | 3.8 | 6.4 | 2.0 | Iris-virginica |\n",
       "| 6.4 | 2.8 | 5.6 | 2.2 | Iris-virginica |\n",
       "| 6.3 | 2.8 | 5.1 | 1.5 | Iris-virginica |\n",
       "| 6.1 | 2.6 | 5.6 | 1.4 | Iris-virginica |\n",
       "| 7.7 | 3.0 | 6.1 | 2.3 | Iris-virginica |\n",
       "| 6.3 | 3.4 | 5.6 | 2.4 | Iris-virginica |\n",
       "| 6.4 | 3.1 | 5.5 | 1.8 | Iris-virginica |\n",
       "| 6.0 | 3.0 | 4.8 | 1.8 | Iris-virginica |\n",
       "| 6.9 | 3.1 | 5.4 | 2.1 | Iris-virginica |\n",
       "| 6.7 | 3.1 | 5.6 | 2.4 | Iris-virginica |\n",
       "| 6.9 | 3.1 | 5.1 | 2.3 | Iris-virginica |\n",
       "| 5.8 | 2.7 | 5.1 | 1.9 | Iris-virginica |\n",
       "| 6.8 | 3.2 | 5.9 | 2.3 | Iris-virginica |\n",
       "| 6.7 | 3.3 | 5.7 | 2.5 | Iris-virginica |\n",
       "| 6.7 | 3.0 | 5.2 | 2.3 | Iris-virginica |\n",
       "| 6.3 | 2.5 | 5.0 | 1.9 | Iris-virginica |\n",
       "| 6.5 | 3.0 | 5.2 | 2.0 | Iris-virginica |\n",
       "| 6.2 | 3.4 | 5.4 | 2.3 | Iris-virginica |\n",
       "| 5.9 | 3.0 | 5.1 | 1.8 | Iris-virginica |\n",
       "\n"
      ],
      "text/plain": [
       "    sepal_length sepal_width petal_length petal_width species       \n",
       "1   5.1          3.5         1.4          0.2         Iris-setosa   \n",
       "2   4.9          3.0         1.4          0.2         Iris-setosa   \n",
       "3   4.7          3.2         1.3          0.2         Iris-setosa   \n",
       "4   4.6          3.1         1.5          0.2         Iris-setosa   \n",
       "5   5.0          3.6         1.4          0.2         Iris-setosa   \n",
       "6   5.4          3.9         1.7          0.4         Iris-setosa   \n",
       "7   4.6          3.4         1.4          0.3         Iris-setosa   \n",
       "8   5.0          3.4         1.5          0.2         Iris-setosa   \n",
       "9   4.4          2.9         1.4          0.2         Iris-setosa   \n",
       "10  4.9          3.1         1.5          0.1         Iris-setosa   \n",
       "11  5.4          3.7         1.5          0.2         Iris-setosa   \n",
       "12  4.8          3.4         1.6          0.2         Iris-setosa   \n",
       "13  4.8          3.0         1.4          0.1         Iris-setosa   \n",
       "14  4.3          3.0         1.1          0.1         Iris-setosa   \n",
       "15  5.8          4.0         1.2          0.2         Iris-setosa   \n",
       "16  5.7          4.4         1.5          0.4         Iris-setosa   \n",
       "17  5.4          3.9         1.3          0.4         Iris-setosa   \n",
       "18  5.1          3.5         1.4          0.3         Iris-setosa   \n",
       "19  5.7          3.8         1.7          0.3         Iris-setosa   \n",
       "20  5.1          3.8         1.5          0.3         Iris-setosa   \n",
       "21  5.4          3.4         1.7          0.2         Iris-setosa   \n",
       "22  5.1          3.7         1.5          0.4         Iris-setosa   \n",
       "23  4.6          3.6         1.0          0.2         Iris-setosa   \n",
       "24  5.1          3.3         1.7          0.5         Iris-setosa   \n",
       "25  4.8          3.4         1.9          0.2         Iris-setosa   \n",
       "26  5.0          3.0         1.6          0.2         Iris-setosa   \n",
       "27  5.0          3.4         1.6          0.4         Iris-setosa   \n",
       "28  5.2          3.5         1.5          0.2         Iris-setosa   \n",
       "29  5.2          3.4         1.4          0.2         Iris-setosa   \n",
       "30  4.7          3.2         1.6          0.2         Iris-setosa   \n",
       "⋮   ⋮            ⋮           ⋮            ⋮           ⋮             \n",
       "121 6.9          3.2         5.7          2.3         Iris-virginica\n",
       "122 5.6          2.8         4.9          2.0         Iris-virginica\n",
       "123 7.7          2.8         6.7          2.0         Iris-virginica\n",
       "124 6.3          2.7         4.9          1.8         Iris-virginica\n",
       "125 6.7          3.3         5.7          2.1         Iris-virginica\n",
       "126 7.2          3.2         6.0          1.8         Iris-virginica\n",
       "127 6.2          2.8         4.8          1.8         Iris-virginica\n",
       "128 6.1          3.0         4.9          1.8         Iris-virginica\n",
       "129 6.4          2.8         5.6          2.1         Iris-virginica\n",
       "130 7.2          3.0         5.8          1.6         Iris-virginica\n",
       "131 7.4          2.8         6.1          1.9         Iris-virginica\n",
       "132 7.9          3.8         6.4          2.0         Iris-virginica\n",
       "133 6.4          2.8         5.6          2.2         Iris-virginica\n",
       "134 6.3          2.8         5.1          1.5         Iris-virginica\n",
       "135 6.1          2.6         5.6          1.4         Iris-virginica\n",
       "136 7.7          3.0         6.1          2.3         Iris-virginica\n",
       "137 6.3          3.4         5.6          2.4         Iris-virginica\n",
       "138 6.4          3.1         5.5          1.8         Iris-virginica\n",
       "139 6.0          3.0         4.8          1.8         Iris-virginica\n",
       "140 6.9          3.1         5.4          2.1         Iris-virginica\n",
       "141 6.7          3.1         5.6          2.4         Iris-virginica\n",
       "142 6.9          3.1         5.1          2.3         Iris-virginica\n",
       "143 5.8          2.7         5.1          1.9         Iris-virginica\n",
       "144 6.8          3.2         5.9          2.3         Iris-virginica\n",
       "145 6.7          3.3         5.7          2.5         Iris-virginica\n",
       "146 6.7          3.0         5.2          2.3         Iris-virginica\n",
       "147 6.3          2.5         5.0          1.9         Iris-virginica\n",
       "148 6.5          3.0         5.2          2.0         Iris-virginica\n",
       "149 6.2          3.4         5.4          2.3         Iris-virginica\n",
       "150 5.9          3.0         5.1          1.8         Iris-virginica"
      ]
     },
     "metadata": {},
     "output_type": "display_data"
    }
   ],
   "source": [
    "data"
   ]
  },
  {
   "cell_type": "code",
   "execution_count": 5,
   "id": "28d3499b-f907-4919-b547-c5f1057f5fd1",
   "metadata": {},
   "outputs": [
    {
     "data": {
      "text/html": [
       "<table class=\"dataframe\">\n",
       "<caption>A data.frame: 6 × 5</caption>\n",
       "<thead>\n",
       "\t<tr><th></th><th scope=col>sepal_length</th><th scope=col>sepal_width</th><th scope=col>petal_length</th><th scope=col>petal_width</th><th scope=col>species</th></tr>\n",
       "\t<tr><th></th><th scope=col>&lt;dbl&gt;</th><th scope=col>&lt;dbl&gt;</th><th scope=col>&lt;dbl&gt;</th><th scope=col>&lt;dbl&gt;</th><th scope=col>&lt;chr&gt;</th></tr>\n",
       "</thead>\n",
       "<tbody>\n",
       "\t<tr><th scope=row>1</th><td>5.1</td><td>3.5</td><td>1.4</td><td>0.2</td><td>Iris-setosa</td></tr>\n",
       "\t<tr><th scope=row>2</th><td>4.9</td><td>3.0</td><td>1.4</td><td>0.2</td><td>Iris-setosa</td></tr>\n",
       "\t<tr><th scope=row>3</th><td>4.7</td><td>3.2</td><td>1.3</td><td>0.2</td><td>Iris-setosa</td></tr>\n",
       "\t<tr><th scope=row>4</th><td>4.6</td><td>3.1</td><td>1.5</td><td>0.2</td><td>Iris-setosa</td></tr>\n",
       "\t<tr><th scope=row>5</th><td>5.0</td><td>3.6</td><td>1.4</td><td>0.2</td><td>Iris-setosa</td></tr>\n",
       "\t<tr><th scope=row>6</th><td>5.4</td><td>3.9</td><td>1.7</td><td>0.4</td><td>Iris-setosa</td></tr>\n",
       "</tbody>\n",
       "</table>\n"
      ],
      "text/latex": [
       "A data.frame: 6 × 5\n",
       "\\begin{tabular}{r|lllll}\n",
       "  & sepal\\_length & sepal\\_width & petal\\_length & petal\\_width & species\\\\\n",
       "  & <dbl> & <dbl> & <dbl> & <dbl> & <chr>\\\\\n",
       "\\hline\n",
       "\t1 & 5.1 & 3.5 & 1.4 & 0.2 & Iris-setosa\\\\\n",
       "\t2 & 4.9 & 3.0 & 1.4 & 0.2 & Iris-setosa\\\\\n",
       "\t3 & 4.7 & 3.2 & 1.3 & 0.2 & Iris-setosa\\\\\n",
       "\t4 & 4.6 & 3.1 & 1.5 & 0.2 & Iris-setosa\\\\\n",
       "\t5 & 5.0 & 3.6 & 1.4 & 0.2 & Iris-setosa\\\\\n",
       "\t6 & 5.4 & 3.9 & 1.7 & 0.4 & Iris-setosa\\\\\n",
       "\\end{tabular}\n"
      ],
      "text/markdown": [
       "\n",
       "A data.frame: 6 × 5\n",
       "\n",
       "| <!--/--> | sepal_length &lt;dbl&gt; | sepal_width &lt;dbl&gt; | petal_length &lt;dbl&gt; | petal_width &lt;dbl&gt; | species &lt;chr&gt; |\n",
       "|---|---|---|---|---|---|\n",
       "| 1 | 5.1 | 3.5 | 1.4 | 0.2 | Iris-setosa |\n",
       "| 2 | 4.9 | 3.0 | 1.4 | 0.2 | Iris-setosa |\n",
       "| 3 | 4.7 | 3.2 | 1.3 | 0.2 | Iris-setosa |\n",
       "| 4 | 4.6 | 3.1 | 1.5 | 0.2 | Iris-setosa |\n",
       "| 5 | 5.0 | 3.6 | 1.4 | 0.2 | Iris-setosa |\n",
       "| 6 | 5.4 | 3.9 | 1.7 | 0.4 | Iris-setosa |\n",
       "\n"
      ],
      "text/plain": [
       "  sepal_length sepal_width petal_length petal_width species    \n",
       "1 5.1          3.5         1.4          0.2         Iris-setosa\n",
       "2 4.9          3.0         1.4          0.2         Iris-setosa\n",
       "3 4.7          3.2         1.3          0.2         Iris-setosa\n",
       "4 4.6          3.1         1.5          0.2         Iris-setosa\n",
       "5 5.0          3.6         1.4          0.2         Iris-setosa\n",
       "6 5.4          3.9         1.7          0.4         Iris-setosa"
      ]
     },
     "metadata": {},
     "output_type": "display_data"
    }
   ],
   "source": [
    "# check data and statistic\n",
    "\n",
    "head(data)"
   ]
  },
  {
   "cell_type": "code",
   "execution_count": 6,
   "id": "e9ef72d5-3309-4fe6-a1ca-eb10183c32ed",
   "metadata": {},
   "outputs": [
    {
     "name": "stdout",
     "output_type": "stream",
     "text": [
      "'data.frame':\t150 obs. of  5 variables:\n",
      " $ sepal_length: num  5.1 4.9 4.7 4.6 5 5.4 4.6 5 4.4 4.9 ...\n",
      " $ sepal_width : num  3.5 3 3.2 3.1 3.6 3.9 3.4 3.4 2.9 3.1 ...\n",
      " $ petal_length: num  1.4 1.4 1.3 1.5 1.4 1.7 1.4 1.5 1.4 1.5 ...\n",
      " $ petal_width : num  0.2 0.2 0.2 0.2 0.2 0.4 0.3 0.2 0.2 0.1 ...\n",
      " $ species     : chr  \"Iris-setosa\" \"Iris-setosa\" \"Iris-setosa\" \"Iris-setosa\" ...\n"
     ]
    }
   ],
   "source": [
    "str(data)"
   ]
  },
  {
   "cell_type": "code",
   "execution_count": 7,
   "id": "13649209-dac7-4f7a-9e72-06db015a52f0",
   "metadata": {},
   "outputs": [
    {
     "data": {
      "text/plain": [
       "  sepal_length    sepal_width     petal_length    petal_width   \n",
       " Min.   :4.300   Min.   :2.000   Min.   :1.000   Min.   :0.100  \n",
       " 1st Qu.:5.100   1st Qu.:2.800   1st Qu.:1.600   1st Qu.:0.300  \n",
       " Median :5.800   Median :3.000   Median :4.350   Median :1.300  \n",
       " Mean   :5.843   Mean   :3.054   Mean   :3.759   Mean   :1.199  \n",
       " 3rd Qu.:6.400   3rd Qu.:3.300   3rd Qu.:5.100   3rd Qu.:1.800  \n",
       " Max.   :7.900   Max.   :4.400   Max.   :6.900   Max.   :2.500  \n",
       "   species         \n",
       " Length:150        \n",
       " Class :character  \n",
       " Mode  :character  \n",
       "                   \n",
       "                   \n",
       "                   "
      ]
     },
     "metadata": {},
     "output_type": "display_data"
    }
   ],
   "source": [
    "summary(data)"
   ]
  },
  {
   "cell_type": "code",
   "execution_count": 8,
   "id": "4fbf0483-e254-42fe-88d1-339ec49ffdc3",
   "metadata": {},
   "outputs": [],
   "source": [
    "# partition \n",
    "\n",
    "set.seed(111)\n",
    "ind <- sample(2, nrow(data),\n",
    "              replace = TRUE,\n",
    "              prob = c(0.8, 0.2)) # 0.8 for training and 0.2 for test"
   ]
  },
  {
   "cell_type": "code",
   "execution_count": 9,
   "id": "7d62e8a9-e2a9-4d0d-8d4d-0ff6383a24ad",
   "metadata": {},
   "outputs": [],
   "source": [
    "training <- data[ind == 1, ] # 120 obs\n",
    "testing <- data[ind == 2, ] # 30 obs"
   ]
  },
  {
   "cell_type": "code",
   "execution_count": 10,
   "id": "f4296597-ba05-437b-a681-203088e1a43e",
   "metadata": {},
   "outputs": [
    {
     "name": "stdout",
     "output_type": "stream",
     "text": [
      "'data.frame':\t120 obs. of  5 variables:\n",
      " $ sepal_length: num  5.1 4.9 4.7 4.6 5 5.4 4.6 5 4.4 4.9 ...\n",
      " $ sepal_width : num  3.5 3 3.2 3.1 3.6 3.9 3.4 3.4 2.9 3.1 ...\n",
      " $ petal_length: num  1.4 1.4 1.3 1.5 1.4 1.7 1.4 1.5 1.4 1.5 ...\n",
      " $ petal_width : num  0.2 0.2 0.2 0.2 0.2 0.4 0.3 0.2 0.2 0.1 ...\n",
      " $ species     : chr  \"Iris-setosa\" \"Iris-setosa\" \"Iris-setosa\" \"Iris-setosa\" ...\n"
     ]
    }
   ],
   "source": [
    "str(training)"
   ]
  },
  {
   "cell_type": "code",
   "execution_count": 11,
   "id": "25bc0e1e-4ca6-4dc1-a479-640dd4c1afc6",
   "metadata": {},
   "outputs": [
    {
     "name": "stdout",
     "output_type": "stream",
     "text": [
      "'data.frame':\t30 obs. of  5 variables:\n",
      " $ sepal_length: num  5.1 4.8 5.1 5 4.6 6.5 5.2 5.6 5.9 6.7 ...\n",
      " $ sepal_width : num  3.5 3.4 3.4 3.5 3.2 2.8 2.7 2.9 3.2 3 ...\n",
      " $ petal_length: num  1.4 1.9 1.5 1.6 1.4 4.6 3.9 3.6 4.8 5 ...\n",
      " $ petal_width : num  0.3 0.2 0.2 0.6 0.2 1.5 1.4 1.3 1.8 1.7 ...\n",
      " $ species     : chr  \"Iris-setosa\" \"Iris-setosa\" \"Iris-setosa\" \"Iris-setosa\" ...\n"
     ]
    }
   ],
   "source": [
    "str(testing)"
   ]
  },
  {
   "cell_type": "code",
   "execution_count": 12,
   "id": "9fad4b28-ea00-410b-9eeb-4807bb96733d",
   "metadata": {},
   "outputs": [
    {
     "data": {
      "image/png": "[encoded data removed]",
      "text/plain": [
       "plot without title"
      ]
     },
     "metadata": {
      "image/png": {
       "height": 420,
       "width": 420
      }
     },
     "output_type": "display_data"
    }
   ],
   "source": [
    "# scatter plots & correlation\n",
    "\n",
    "pairs.panels(training[,-5], # 5 one is factor variable\n",
    "             gap = 0, # scatter plot type\n",
    "             bg = c(\"red\", \"yellow\", \"blue\")[training$species], # colors\n",
    "             pch = 21) # symbol"
   ]
  },
  {
   "cell_type": "code",
   "execution_count": 13,
   "id": "f6c310e9-8194-430b-8eda-93d3fde6116f",
   "metadata": {},
   "outputs": [],
   "source": [
    "# PCA\n",
    "\n",
    "pc <- prcomp(training[, -5], # remove dependent variable, PCA only uses independet variables\n",
    "             center = TRUE, # center for average for variables \n",
    "             scale. = TRUE) # normalization"
   ]
  },
  {
   "cell_type": "code",
   "execution_count": 14,
   "id": "618e3c87-2a4e-4e68-8227-9e85a6d754ac",
   "metadata": {},
   "outputs": [
    {
     "data": {
      "text/html": [
       "<dl>\n",
       "\t<dt>$names</dt>\n",
       "\t\t<dd><style>\n",
       ".list-inline {list-style: none; margin:0; padding: 0}\n",
       ".list-inline>li {display: inline-block}\n",
       ".list-inline>li:not(:last-child)::after {content: \"\\00b7\"; padding: 0 .5ex}\n",
       "</style>\n",
       "<ol class=list-inline><li>'sdev'</li><li>'rotation'</li><li>'center'</li><li>'scale'</li><li>'x'</li></ol>\n",
       "</dd>\n",
       "\t<dt>$class</dt>\n",
       "\t\t<dd>'prcomp'</dd>\n",
       "</dl>\n"
      ],
      "text/latex": [
       "\\begin{description}\n",
       "\\item[\\$names] \\begin{enumerate*}\n",
       "\\item 'sdev'\n",
       "\\item 'rotation'\n",
       "\\item 'center'\n",
       "\\item 'scale'\n",
       "\\item 'x'\n",
       "\\end{enumerate*}\n",
       "\n",
       "\\item[\\$class] 'prcomp'\n",
       "\\end{description}\n"
      ],
      "text/markdown": [
       "$names\n",
       ":   1. 'sdev'\n",
       "2. 'rotation'\n",
       "3. 'center'\n",
       "4. 'scale'\n",
       "5. 'x'\n",
       "\n",
       "\n",
       "\n",
       "$class\n",
       ":   'prcomp'\n",
       "\n",
       "\n"
      ],
      "text/plain": [
       "$names\n",
       "[1] \"sdev\"     \"rotation\" \"center\"   \"scale\"    \"x\"       \n",
       "\n",
       "$class\n",
       "[1] \"prcomp\"\n"
      ]
     },
     "metadata": {},
     "output_type": "display_data"
    }
   ],
   "source": [
    "attributes(pc) # attributes"
   ]
  },
  {
   "cell_type": "code",
   "execution_count": 15,
   "id": "304e8fb5-02d9-4e2b-ad00-015b7cf3a36e",
   "metadata": {},
   "outputs": [
    {
     "data": {
      "text/html": [
       "<style>\n",
       ".dl-inline {width: auto; margin:0; padding: 0}\n",
       ".dl-inline>dt, .dl-inline>dd {float: none; width: auto; display: inline-block}\n",
       ".dl-inline>dt::after {content: \":\\0020\"; padding-right: .5ex}\n",
       ".dl-inline>dt:not(:first-of-type) {padding-left: .5ex}\n",
       "</style><dl class=dl-inline><dt>sepal_length</dt><dd>5.79</dd><dt>sepal_width</dt><dd>3.065</dd><dt>petal_length</dt><dd>3.59833333333333</dd><dt>petal_width</dt><dd>1.11083333333333</dd></dl>\n"
      ],
      "text/latex": [
       "\\begin{description*}\n",
       "\\item[sepal\\textbackslash{}\\_length] 5.79\n",
       "\\item[sepal\\textbackslash{}\\_width] 3.065\n",
       "\\item[petal\\textbackslash{}\\_length] 3.59833333333333\n",
       "\\item[petal\\textbackslash{}\\_width] 1.11083333333333\n",
       "\\end{description*}\n"
      ],
      "text/markdown": [
       "sepal_length\n",
       ":   5.79sepal_width\n",
       ":   3.065petal_length\n",
       ":   3.59833333333333petal_width\n",
       ":   1.11083333333333\n",
       "\n"
      ],
      "text/plain": [
       "sepal_length  sepal_width petal_length  petal_width \n",
       "    5.790000     3.065000     3.598333     1.110833 "
      ]
     },
     "metadata": {},
     "output_type": "display_data"
    },
    {
     "data": {
      "text/html": [
       "5.79"
      ],
      "text/latex": [
       "5.79"
      ],
      "text/markdown": [
       "5.79"
      ],
      "text/plain": [
       "[1] 5.79"
      ]
     },
     "metadata": {},
     "output_type": "display_data"
    }
   ],
   "source": [
    "pc$center # average of each variables\n",
    "mean(training$sepal_length) # check mean for sepal_length"
   ]
  },
  {
   "cell_type": "code",
   "execution_count": 16,
   "id": "8bed8905-5759-42f7-b82c-c26f266a74d9",
   "metadata": {},
   "outputs": [
    {
     "data": {
      "text/html": [
       "<style>\n",
       ".dl-inline {width: auto; margin:0; padding: 0}\n",
       ".dl-inline>dt, .dl-inline>dd {float: none; width: auto; display: inline-block}\n",
       ".dl-inline>dt::after {content: \":\\0020\"; padding-right: .5ex}\n",
       ".dl-inline>dt:not(:first-of-type) {padding-left: .5ex}\n",
       "</style><dl class=dl-inline><dt>sepal_length</dt><dd>0.823438170215631</dd><dt>sepal_width</dt><dd>0.456263597702288</dd><dt>petal_length</dt><dd>1.78626803738984</dd><dt>petal_width</dt><dd>0.756684034648093</dd></dl>\n"
      ],
      "text/latex": [
       "\\begin{description*}\n",
       "\\item[sepal\\textbackslash{}\\_length] 0.823438170215631\n",
       "\\item[sepal\\textbackslash{}\\_width] 0.456263597702288\n",
       "\\item[petal\\textbackslash{}\\_length] 1.78626803738984\n",
       "\\item[petal\\textbackslash{}\\_width] 0.756684034648093\n",
       "\\end{description*}\n"
      ],
      "text/markdown": [
       "sepal_length\n",
       ":   0.823438170215631sepal_width\n",
       ":   0.456263597702288petal_length\n",
       ":   1.78626803738984petal_width\n",
       ":   0.756684034648093\n",
       "\n"
      ],
      "text/plain": [
       "sepal_length  sepal_width petal_length  petal_width \n",
       "   0.8234382    0.4562636    1.7862680    0.7566840 "
      ]
     },
     "metadata": {},
     "output_type": "display_data"
    },
    {
     "data": {
      "text/html": [
       "0.823438170215631"
      ],
      "text/latex": [
       "0.823438170215631"
      ],
      "text/markdown": [
       "0.823438170215631"
      ],
      "text/plain": [
       "[1] 0.8234382"
      ]
     },
     "metadata": {},
     "output_type": "display_data"
    }
   ],
   "source": [
    "pc$scale\n",
    "sd(training$sepal_length) # sd for sepal_length"
   ]
  },
  {
   "cell_type": "code",
   "execution_count": 17,
   "id": "7fbde019-1298-49e6-8f96-7f27d88e2498",
   "metadata": {},
   "outputs": [
    {
     "name": "stdout",
     "output_type": "stream",
     "text": [
      "Standard deviations (1, .., p=4):\n",
      "[1] 1.7146947 0.9448868 0.3851361 0.1366795\n",
      "\n",
      "Rotation (n x k) = (4 x 4):\n",
      "                    PC1         PC2        PC3        PC4\n",
      "sepal_length  0.5161077 -0.39269909  0.7259547  0.2289322\n",
      "sepal_width  -0.2864976 -0.91586236 -0.2529633 -0.1229831\n",
      "petal_length  0.5782338 -0.02588223 -0.1738416 -0.7967150\n",
      "petal_width   0.5632030 -0.07945868 -0.6154497  0.5456284\n"
     ]
    }
   ],
   "source": [
    "print(pc) # four variables and four principal component results"
   ]
  },
  {
   "cell_type": "code",
   "execution_count": 18,
   "id": "e21ade42-6afd-4404-ba2b-de7cfff76110",
   "metadata": {},
   "outputs": [
    {
     "data": {
      "text/plain": [
       "Importance of components:\n",
       "                         PC1    PC2     PC3     PC4\n",
       "Standard deviation     1.715 0.9449 0.38514 0.13668\n",
       "Proportion of Variance 0.735 0.2232 0.03708 0.00467\n",
       "Cumulative Proportion  0.735 0.9583 0.99533 1.00000"
      ]
     },
     "metadata": {},
     "output_type": "display_data"
    }
   ],
   "source": [
    "summary(pc)"
   ]
  },
  {
   "cell_type": "code",
   "execution_count": 19,
   "id": "4ca294b3-e12a-4f89-ab4b-ca946195a9f7",
   "metadata": {},
   "outputs": [
    {
     "data": {
      "image/png": "[encoded data removed]",
      "text/plain": [
       "plot without title"
      ]
     },
     "metadata": {
      "image/png": {
       "height": 420,
       "width": 420
      }
     },
     "output_type": "display_data"
    }
   ],
   "source": [
    "# orthogonality\n",
    "\n",
    "pairs.panels(pc$x,\n",
    "            gap = 0,\n",
    "            bg = c(\"red\", \"yellow\", \"blue\")[training$species],\n",
    "            pch = 21)"
   ]
  },
  {
   "cell_type": "code",
   "execution_count": 20,
   "id": "5d6d5ed6-983a-4420-ade2-57b12e41508a",
   "metadata": {},
   "outputs": [
    {
     "data": {
      "image/png": "[encoded data removed]",
      "text/plain": [
       "plot without title"
      ]
     },
     "metadata": {
      "image/png": {
       "height": 420,
       "width": 420
      }
     },
     "output_type": "display_data"
    }
   ],
   "source": [
    "# bi plot\n",
    "\n",
    "g <- ggbiplot(pc,\n",
    "              obs.scale = 1,\n",
    "              var.scale = 1,\n",
    "              groups = training$species,\n",
    "              ellipse = TRUE,\n",
    "              circle = TRUE,\n",
    "              elipse.prob = 0.68) # default value\n",
    "g <- g + scale_color_discrete(name = \"\")\n",
    "g <- g + theme(legend.direction = \"horizontal\",\n",
    "               legend.position = \"top\")\n",
    "print(g)"
   ]
  },
  {
   "cell_type": "code",
   "execution_count": 21,
   "id": "c2fff2d5-1347-447c-9c7c-bf6dda354129",
   "metadata": {},
   "outputs": [],
   "source": [
    "# prediction With principal components\n",
    "\n",
    "trg <- predict(pc, training)\n",
    "trg <- data.frame(trg, training[5])\n",
    "tst <- predict(pc, testing)\n",
    "tst <- data.frame(tst, testing[5])"
   ]
  },
  {
   "cell_type": "code",
   "execution_count": 22,
   "id": "a4f7ab0b-bf37-4250-8945-a667f3c288a0",
   "metadata": {},
   "outputs": [
    {
     "name": "stdout",
     "output_type": "stream",
     "text": [
      "# weights:  12 (6 variable)\n",
      "initial  value 131.833475 \n",
      "iter  10 value 20.455265\n",
      "iter  20 value 18.339339\n",
      "iter  30 value 18.200926\n",
      "iter  40 value 18.195670\n",
      "iter  40 value 18.195669\n",
      "final  value 18.195669 \n",
      "converged\n"
     ]
    },
    {
     "data": {
      "text/plain": [
       "Call:\n",
       "multinom(formula = species ~ PC1 + PC2, data = trg)\n",
       "\n",
       "Coefficients:\n",
       "                (Intercept)      PC1      PC2\n",
       "Iris-versicolor    5.717620 11.51388 2.761304\n",
       "Iris-virginica    -2.075781 17.57926 3.237961\n",
       "\n",
       "Std. Errors:\n",
       "                (Intercept)      PC1      PC2\n",
       "Iris-versicolor    57.04975 43.71687 43.00402\n",
       "Iris-virginica     57.08478 43.74255 43.00794\n",
       "\n",
       "Residual Deviance: 36.39134 \n",
       "AIC: 48.39134 "
      ]
     },
     "metadata": {},
     "output_type": "display_data"
    }
   ],
   "source": [
    "# multinomial logistic regression model\n",
    "\n",
    "model <- multinom(species~PC1+PC2, data = trg)\n",
    "summary(model)"
   ]
  },
  {
   "cell_type": "code",
   "execution_count": 23,
   "id": "76bf14dd-1bf2-4dc9-aaba-b69a2f4e68bb",
   "metadata": {},
   "outputs": [
    {
     "data": {
      "text/plain": [
       "                 \n",
       "p                 Iris-setosa Iris-versicolor Iris-virginica\n",
       "  Iris-setosa              45               0              0\n",
       "  Iris-versicolor           0              35              3\n",
       "  Iris-virginica            0               5             32"
      ]
     },
     "metadata": {},
     "output_type": "display_data"
    },
    {
     "data": {
      "text/html": [
       "0.0666666666666667"
      ],
      "text/latex": [
       "0.0666666666666667"
      ],
      "text/markdown": [
       "0.0666666666666667"
      ],
      "text/plain": [
       "[1] 0.06666667"
      ]
     },
     "metadata": {},
     "output_type": "display_data"
    }
   ],
   "source": [
    "# confusion matrix and misclassification error - training\n",
    "\n",
    "p <- predict(model, trg)\n",
    "tab <- table(p, trg$species)\n",
    "tab\n",
    "\n",
    "1 - sum(diag(tab)) / sum(tab) # misslassication error / percent"
   ]
  },
  {
   "cell_type": "code",
   "execution_count": 24,
   "id": "53378473-37e7-4a6c-8f15-b5ba40fe2e07",
   "metadata": {},
   "outputs": [
    {
     "data": {
      "text/plain": [
       "                 \n",
       "p1                Iris-setosa Iris-versicolor Iris-virginica\n",
       "  Iris-setosa               5               0              0\n",
       "  Iris-versicolor           0               9              3\n",
       "  Iris-virginica            0               1             12"
      ]
     },
     "metadata": {},
     "output_type": "display_data"
    },
    {
     "data": {
      "text/html": [
       "-2.73333333333333"
      ],
      "text/latex": [
       "-2.73333333333333"
      ],
      "text/markdown": [
       "-2.73333333333333"
      ],
      "text/plain": [
       "[1] -2.733333"
      ]
     },
     "metadata": {},
     "output_type": "display_data"
    }
   ],
   "source": [
    "# confusion matrix and misclassification error - testing\n",
    "\n",
    "p1 <- predict(model, tst)\n",
    "tab1 <- table(p1, tst$species)\n",
    "tab1\n",
    "\n",
    "1 - sum(diag(tab)) /  sum(tab1)"
   ]
  }
 ],
 "metadata": {
  "kernelspec": {
   "display_name": "R",
   "language": "R",
   "name": "ir"
  },
  "language_info": {
   "codemirror_mode": "r",
   "file_extension": ".r",
   "mimetype": "text/x-r-source",
   "name": "R",
   "pygments_lexer": "r",
   "version": "4.3.2"
  }
 },
 "nbformat": 4,
 "nbformat_minor": 5
}
